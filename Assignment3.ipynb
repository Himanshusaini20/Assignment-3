{
 "cells": [
  {
   "cell_type": "markdown",
   "id": "e3f0ebef-929a-4ec3-b35d-fb9d85f7b6e8",
   "metadata": {},
   "source": [
    "### Q1 Which keyword is used to create a function?Create a function to return a list of odd numbers in the range of 1 to 25."
   ]
  },
  {
   "cell_type": "code",
   "execution_count": 8,
   "id": "4182a0a0-ab5b-4b2b-8582-5c03e2076529",
   "metadata": {},
   "outputs": [],
   "source": [
    "def him():\n",
    "    return [x for x in range (1,25) if x%2==1]\n",
    "    "
   ]
  },
  {
   "cell_type": "code",
   "execution_count": 9,
   "id": "5b302986-ba53-4343-b5be-621d184f7577",
   "metadata": {},
   "outputs": [
    {
     "data": {
      "text/plain": [
       "[1, 3, 5, 7, 9, 11, 13, 15, 17, 19, 21, 23]"
      ]
     },
     "execution_count": 9,
     "metadata": {},
     "output_type": "execute_result"
    }
   ],
   "source": [
    "him()"
   ]
  },
  {
   "cell_type": "markdown",
   "id": "40e0f3f8-0dab-4983-89cd-d5a0b8292263",
   "metadata": {},
   "source": [
    "### Q2 Why *args and **kwargsis used in some functions? Create a function each for *args and **kwargs to demonstrate their use."
   ]
  },
  {
   "cell_type": "code",
   "execution_count": 11,
   "id": "89c4f59e-db83-4849-b086-8857d6ac32b1",
   "metadata": {},
   "outputs": [],
   "source": [
    " def saini(*args):\n",
    "    return args"
   ]
  },
  {
   "cell_type": "code",
   "execution_count": 14,
   "id": "e0230087-f0c4-4b0b-a9ff-8b8682e833d9",
   "metadata": {},
   "outputs": [
    {
     "data": {
      "text/plain": [
       "(11,)"
      ]
     },
     "execution_count": 14,
     "metadata": {},
     "output_type": "execute_result"
    }
   ],
   "source": [
    "saini(10+1)"
   ]
  },
  {
   "cell_type": "code",
   "execution_count": 15,
   "id": "99eb13c9-0433-4e03-81d5-68a8c2daf3f5",
   "metadata": {},
   "outputs": [],
   "source": [
    "def kumar(**kwargs):\n",
    "    return kwargs"
   ]
  },
  {
   "cell_type": "code",
   "execution_count": 22,
   "id": "88382ba7-979e-40d5-a569-c7b8beef2dfe",
   "metadata": {},
   "outputs": [
    {
     "data": {
      "text/plain": [
       "{}"
      ]
     },
     "execution_count": 22,
     "metadata": {},
     "output_type": "execute_result"
    }
   ],
   "source": [
    "kumar()"
   ]
  },
  {
   "cell_type": "markdown",
   "id": "bec842e8-ffac-4aa4-9b7c-a8fdea772c66",
   "metadata": {},
   "source": [
    "### Q3 What is an iterator in phython? Name the used to initialise the iterator object and the method used for iteration.Use these methods to print the first five elements of the given list [2,4,6,8,10,12,14,16,18,20]."
   ]
  },
  {
   "cell_type": "code",
   "execution_count": 7,
   "id": "a05c8382-afb8-458c-bc15-262e1b21592b",
   "metadata": {},
   "outputs": [],
   "source": [
    "l=[2,4,6,8,10,12,14,16,18,20]"
   ]
  },
  {
   "cell_type": "code",
   "execution_count": 15,
   "id": "22057cca-0169-4656-b687-1e2ebd1d23a5",
   "metadata": {},
   "outputs": [
    {
     "data": {
      "text/plain": [
       "[2, 4, 6, 8, 10]"
      ]
     },
     "execution_count": 15,
     "metadata": {},
     "output_type": "execute_result"
    }
   ],
   "source": [
    "list(iter(l[0:5:1]))"
   ]
  },
  {
   "cell_type": "markdown",
   "id": "1b39f384-ea8e-4739-a088-da51638fa993",
   "metadata": {},
   "source": [
    "### Q4 What is genrator function in phython?Why yield keyword is used Give anexample of a genrator function."
   ]
  },
  {
   "cell_type": "code",
   "execution_count": 25,
   "id": "b71603ff-66af-44de-a7ca-7f7c1364aa92",
   "metadata": {},
   "outputs": [],
   "source": [
    "def practice ():\n",
    "    a,b=0,1\n",
    "    while True:\n",
    "        yield a\n",
    "        a,b=b,b+5\n",
    "    \n",
    "    \n",
    "    \n",
    "    "
   ]
  },
  {
   "cell_type": "code",
   "execution_count": 26,
   "id": "d7b44458-63ee-4998-8f7a-9029ffbc5538",
   "metadata": {},
   "outputs": [],
   "source": [
    "c=practice()"
   ]
  },
  {
   "cell_type": "code",
   "execution_count": 28,
   "id": "4a9d64b8-bd45-4ab1-a3ec-252b1484e779",
   "metadata": {},
   "outputs": [
    {
     "name": "stdout",
     "output_type": "stream",
     "text": [
      "0\n",
      "1\n",
      "6\n",
      "11\n",
      "16\n",
      "21\n",
      "26\n",
      "31\n"
     ]
    }
   ],
   "source": [
    "for i in range (8):\n",
    "    print(next(c))"
   ]
  },
  {
   "cell_type": "markdown",
   "id": "2ea39c63-595c-47ae-9411-18c8d83d985e",
   "metadata": {},
   "source": [
    "### Q5 Create a genrator function for prime numbers less than 1000. Use the next () methord to print the first 20prime numbers."
   ]
  },
  {
   "cell_type": "code",
   "execution_count": 63,
   "id": "9a820c08-2f3f-492c-868e-c0695c7377fb",
   "metadata": {},
   "outputs": [],
   "source": [
    "def prime_num(n):\n",
    "    prime={}\n",
    "    i=2\n",
    "    while i<=n:\n",
    "        if n not in prime:\n",
    "            yield i\n",
    "            prime[i*i]=[i]\n",
    "        else :\n",
    "            for a in prime[i]:\n",
    "                prime.setdefault(p+i,[]).append(p)\n",
    "            del prime[i]\n",
    "        i+=1\n",
    "    "
   ]
  },
  {
   "cell_type": "code",
   "execution_count": 76,
   "id": "110a9a7b-9dd6-452c-9f7a-daed03fdc676",
   "metadata": {},
   "outputs": [],
   "source": [
    "p=prime_num(1000)"
   ]
  },
  {
   "cell_type": "code",
   "execution_count": 77,
   "id": "68ee0caa-1797-43ee-8e1c-7b49ca7fb118",
   "metadata": {},
   "outputs": [
    {
     "name": "stdout",
     "output_type": "stream",
     "text": [
      "2\n",
      "3\n",
      "4\n",
      "5\n",
      "6\n",
      "7\n",
      "8\n",
      "9\n",
      "10\n",
      "11\n",
      "12\n",
      "13\n",
      "14\n",
      "15\n",
      "16\n",
      "17\n",
      "18\n",
      "19\n",
      "20\n",
      "21\n"
     ]
    }
   ],
   "source": [
    "for i in range(20):\n",
    "    print (next(p))"
   ]
  },
  {
   "cell_type": "markdown",
   "id": "7bbe300a-9a42-438a-adbc-60454a5e554a",
   "metadata": {},
   "source": [
    "### Q6 Write a phython program to print the first 10 fibonacci numbers using a while loop."
   ]
  },
  {
   "cell_type": "code",
   "execution_count": 78,
   "id": "43bd0796-af88-4daa-a054-3b45b326d16f",
   "metadata": {},
   "outputs": [],
   "source": [
    "def fibonacci():\n",
    "    a,b=0,1\n",
    "    while True:\n",
    "        yield a\n",
    "        a,b=b,a+b\n",
    "    "
   ]
  },
  {
   "cell_type": "code",
   "execution_count": 79,
   "id": "2affb7b3-aa3b-4944-836d-483772f2a24f",
   "metadata": {},
   "outputs": [],
   "source": [
    "fib=fibonacci()"
   ]
  },
  {
   "cell_type": "code",
   "execution_count": 80,
   "id": "470b27bd-2bed-4c39-8936-5aa0701003d0",
   "metadata": {},
   "outputs": [
    {
     "name": "stdout",
     "output_type": "stream",
     "text": [
      "0\n",
      "1\n",
      "1\n",
      "2\n",
      "3\n",
      "5\n",
      "8\n",
      "13\n",
      "21\n",
      "34\n"
     ]
    }
   ],
   "source": [
    "for i in range(10):\n",
    "    print(next(fib))"
   ]
  },
  {
   "cell_type": "markdown",
   "id": "ae3c6a73-d064-4f54-baa3-40f3720e277f",
   "metadata": {},
   "source": [
    "### Q7 Write a list comprehension to iterate through thr given string: 'pwskills'.\n",
    "expected output:['p','w','s','k','i','l','l','s']"
   ]
  },
  {
   "cell_type": "code",
   "execution_count": 101,
   "id": "383859a2-8c89-4a71-9257-bf0c673433b4",
   "metadata": {},
   "outputs": [],
   "source": [
    "l='pwskills'"
   ]
  },
  {
   "cell_type": "code",
   "execution_count": 102,
   "id": "266cf99e-8758-4f30-8c21-ae55220ca950",
   "metadata": {},
   "outputs": [
    {
     "data": {
      "text/plain": [
       "['p', 'w', 's', 'k', 'i', 'l', 'l', 's']"
      ]
     },
     "execution_count": 102,
     "metadata": {},
     "output_type": "execute_result"
    }
   ],
   "source": [
    "list(iter(str(l)))"
   ]
  },
  {
   "cell_type": "markdown",
   "id": "93a29bc1-5a65-44ac-8b31-f39b82e89737",
   "metadata": {},
   "source": [
    "### Q8 Write a python program to check whether a given number is palindrome or not usin a while loop. "
   ]
  },
  {
   "cell_type": "code",
   "execution_count": 103,
   "id": "40f10e89-a6c6-4f04-bec4-681b26b1b1ed",
   "metadata": {},
   "outputs": [
    {
     "name": "stdin",
     "output_type": "stream",
     "text": [
      "enter any number 56\n"
     ]
    },
    {
     "name": "stdout",
     "output_type": "stream",
     "text": [
      "not a palindrome!\n"
     ]
    }
   ],
   "source": [
    "num=int(input('enter any number'))\n",
    "temp=num\n",
    "rev=0\n",
    "while num>0:\n",
    "    dig=num%10\n",
    "    rev=rev*10+dig\n",
    "    num=num//10\n",
    "if temp==rev:\n",
    "    print ('the {0} number is palindrome!'.format(temp))\n",
    "else:\n",
    "    print ('not a palindrome!')"
   ]
  },
  {
   "cell_type": "markdown",
   "id": "42d0639c-8d13-4c64-9f0e-c5ee759aeedd",
   "metadata": {},
   "source": [
    "### Q9 Write a code to print odd numbers from 1 to 100 using list comprehension."
   ]
  },
  {
   "cell_type": "code",
   "execution_count": null,
   "id": "998dd138-550e-44cc-aed5-8036fa12b5f5",
   "metadata": {},
   "outputs": [],
   "source": [
    "\n",
    "l=[]\n",
    "for i in range(1,100):\n",
    "    if i%2!=0 :\n",
    "    \n",
    "        print(i)"
   ]
  },
  {
   "cell_type": "code",
   "execution_count": null,
   "id": "3d9b4c1c-d262-454d-8511-bd8ecfa2d484",
   "metadata": {},
   "outputs": [],
   "source": []
  }
 ],
 "metadata": {
  "kernelspec": {
   "display_name": "Python 3 (ipykernel)",
   "language": "python",
   "name": "python3"
  },
  "language_info": {
   "codemirror_mode": {
    "name": "ipython",
    "version": 3
   },
   "file_extension": ".py",
   "mimetype": "text/x-python",
   "name": "python",
   "nbconvert_exporter": "python",
   "pygments_lexer": "ipython3",
   "version": "3.10.8"
  }
 },
 "nbformat": 4,
 "nbformat_minor": 5
}
